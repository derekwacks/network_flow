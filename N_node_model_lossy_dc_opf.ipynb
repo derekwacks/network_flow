{
 "cells": [
  {
   "cell_type": "code",
   "execution_count": 59,
   "id": "0e055e11-c8f7-47c6-afd8-cfad46dfb920",
   "metadata": {},
   "outputs": [
    {
     "name": "stderr",
     "output_type": "stream",
     "text": [
      "\u001b[32m\u001b[1m   Resolving\u001b[22m\u001b[39m package versions...\n",
      "\u001b[32m\u001b[1m  No Changes\u001b[22m\u001b[39m to `~/GenX/Project.toml`\n",
      "\u001b[32m\u001b[1m  No Changes\u001b[22m\u001b[39m to `~/GenX/Manifest.toml`\n"
     ]
    },
    {
     "name": "stdout",
     "output_type": "stream",
     "text": [
      "\u001b[36m\u001b[1mProject\u001b[22m\u001b[39m GenX v0.4.0\n",
      "\u001b[32m\u001b[1mStatus\u001b[22m\u001b[39m `~/GenX/Project.toml`\n",
      "\u001b[32m⌃\u001b[39m \u001b[90m[336ed68f] \u001b[39mCSV v0.10.14\n",
      "\u001b[32m⌃\u001b[39m \u001b[90m[159f3aea] \u001b[39mCairo v1.0.5\n",
      "  \u001b[90m[aaaa29a8] \u001b[39mClustering v0.15.7\n",
      "  \u001b[90m[861a8166] \u001b[39mCombinatorics v1.0.2\n",
      "\u001b[32m⌃\u001b[39m \u001b[90m[a93c6f00] \u001b[39mDataFrames v1.6.1\n",
      "  \u001b[90m[864edb3b] \u001b[39mDataStructures v0.18.20\n",
      "  \u001b[90m[7db386b5] \u001b[39mDependencyWalker v0.1.2\n",
      "\u001b[32m⌃\u001b[39m \u001b[90m[b4f34e82] \u001b[39mDistances v0.10.11\n",
      "  \u001b[90m[48062228] \u001b[39mFilePathsBase v0.9.22\n",
      "  \u001b[90m[4c0ca9eb] \u001b[39mGtk v1.3.0\n",
      "\u001b[32m⌃\u001b[39m \u001b[90m[87dc4568] \u001b[39mHiGHS v1.9.0\n",
      "\u001b[32m⌃\u001b[39m \u001b[90m[7073ff75] \u001b[39mIJulia v1.24.2\n",
      "\u001b[32m⌃\u001b[39m \u001b[90m[4076af6c] \u001b[39mJuMP v1.22.0\n",
      "\u001b[32m⌃\u001b[39m \u001b[90m[b8f27783] \u001b[39mMathOptInterface v1.29.0\n",
      "\u001b[32m⌃\u001b[39m \u001b[90m[f0f68f2c] \u001b[39mPlotlyJS v0.18.13\n",
      "\u001b[32m⌃\u001b[39m \u001b[90m[91a5bcdd] \u001b[39mPlots v1.40.4\n",
      "\u001b[32m⌃\u001b[39m \u001b[90m[731186ca] \u001b[39mRecursiveArrayTools v3.18.1\n",
      "  \u001b[90m[3646fa90] \u001b[39mScikitLearn v0.7.0\n",
      "\u001b[33m⌅\u001b[39m \u001b[90m[2913bbd2] \u001b[39mStatsBase v0.33.21\n",
      "  \u001b[90m[112f6efa] \u001b[39mVegaLite v3.3.0\n",
      "\u001b[32m⌃\u001b[39m \u001b[90m[ddb6d928] \u001b[39mYAML v0.4.9\n",
      "\u001b[32m⌃\u001b[39m \u001b[90m[83423d85] \u001b[39mCairo_jll v1.18.0+2\n",
      "\u001b[32m⌃\u001b[39m \u001b[90m[36c8627f] \u001b[39mPango_jll v1.52.2+0\n",
      "  \u001b[90m[30392449] \u001b[39mPixman_jll v0.43.4+0\n",
      "  \u001b[90m[ade2ca70] \u001b[39mDates\n",
      "  \u001b[90m[37e2e46d] \u001b[39mLinearAlgebra\n",
      "  \u001b[90m[9a3f8284] \u001b[39mRandom\n",
      "  \u001b[90m[10745b16] \u001b[39mStatistics v1.10.0\n",
      "\u001b[36m\u001b[1mInfo\u001b[22m\u001b[39m Packages marked with \u001b[32m⌃\u001b[39m and \u001b[33m⌅\u001b[39m have new versions available. Those with \u001b[32m⌃\u001b[39m may be upgradable, but those with \u001b[33m⌅\u001b[39m are restricted by compatibility constraints from upgrading. To see why use `status --outdated`\n"
     ]
    },
    {
     "name": "stderr",
     "output_type": "stream",
     "text": [
      "\u001b[32m\u001b[1m  Activating\u001b[22m\u001b[39m project at `~/GenX`\n"
     ]
    }
   ],
   "source": [
    "import Pkg\n",
    "Pkg.add(\"FilePathsBase\")\n",
    "using FilePathsBase\n",
    "rel_path_to_GenX = relpath(joinpath(homedir(), \"GenX\"))\n",
    "Pkg.activate(\"../../../../GenX\")\n",
    "Pkg.status()"
   ]
  },
  {
   "cell_type": "code",
   "execution_count": 60,
   "id": "6051b3b8-b62d-4096-9624-e8d8fdf32bfe",
   "metadata": {},
   "outputs": [],
   "source": [
    "using JuMP, HiGHS\n",
    "using Plots\n",
    "using DataFrames, CSV#, PrettyTables"
   ]
  },
  {
   "cell_type": "code",
   "execution_count": 106,
   "id": "581f3c13-c4be-469a-aabf-27f7d20a0dab",
   "metadata": {},
   "outputs": [
    {
     "data": {
      "text/plain": [
       "8-element Vector{Float64}:\n",
       " 35.587188612099645\n",
       " 35.587188612099645\n",
       " 35.587188612099645\n",
       " 35.587188612099645\n",
       " 35.587188612099645\n",
       " 35.587188612099645\n",
       " 35.587188612099645\n",
       " 35.587188612099645"
      ]
     },
     "execution_count": 106,
     "metadata": {},
     "output_type": "execute_result"
    }
   ],
   "source": [
    "datadir = joinpath(\"OPF_data/three_nodes\")\n",
    "\n",
    "gen = CSV.read(joinpath(datadir,\"gen.csv\"), DataFrame);\n",
    "gencost = CSV.read(joinpath(datadir,\"gencost.csv\"), DataFrame);\n",
    "branch = CSV.read(joinpath(datadir,\"branch.csv\"), DataFrame);\n",
    "bus = CSV.read(joinpath(datadir,\"bus.csv\"), DataFrame);\n",
    "for f in [gen, gencost, branch, bus]\n",
    "    rename!(f, lowercase.(names(f)))\n",
    "end\n",
    "\n",
    "gen.id = 1:nrow(gen);\n",
    "gencost.id = 1:nrow(gencost);\n",
    "branch.id = 1:nrow(branch);\n",
    "# Reverse direction with same parameters\n",
    "branch2 = copy(branch)\n",
    "branch2.f = branch2.fbus\n",
    "branch2.fbus = branch2.tbus\n",
    "branch2.tbus = branch2.f\n",
    "branch2 = branch2[:,names(branch)]\n",
    "append!(branch,branch2)\n",
    "\n",
    "#=\n",
    "If resistance ~= 0 (reactance >> resistance), susceptance = 1 / reactance\n",
    "https://en.wikipedia.org/wiki/Susceptance#Relationship_to_reactance\n",
    "=#\n",
    "branch.sus = 1 ./ branch.x"
   ]
  },
  {
   "cell_type": "code",
   "execution_count": 127,
   "id": "94e899ad-c315-40d2-b342-e3551a08ca98",
   "metadata": {},
   "outputs": [
    {
     "data": {
      "text/html": [
       "<div><div style = \"float: left;\"><span>3×13 DataFrame</span></div><div style = \"clear: both;\"></div></div><div class = \"data-frame\" style = \"overflow-x: scroll;\"><table class = \"data-frame\" style = \"margin-bottom: 6px;\"><thead><tr class = \"header\"><th class = \"rowNumber\" style = \"font-weight: bold; text-align: right;\">Row</th><th style = \"text-align: left;\">bus_i</th><th style = \"text-align: left;\">type</th><th style = \"text-align: left;\">pd</th><th style = \"text-align: left;\">qd</th><th style = \"text-align: left;\">gs</th><th style = \"text-align: left;\">bs</th><th style = \"text-align: left;\">area</th><th style = \"text-align: left;\">vm</th><th style = \"text-align: left;\">va</th><th style = \"text-align: left;\">basekv</th><th style = \"text-align: left;\">zone</th><th style = \"text-align: left;\">vmax</th><th style = \"text-align: left;\">vmin</th></tr><tr class = \"subheader headerLastRow\"><th class = \"rowNumber\" style = \"font-weight: bold; text-align: right;\"></th><th title = \"Int64\" style = \"text-align: left;\">Int64</th><th title = \"Int64\" style = \"text-align: left;\">Int64</th><th title = \"Int64\" style = \"text-align: left;\">Int64</th><th title = \"Float64\" style = \"text-align: left;\">Float64</th><th title = \"Int64\" style = \"text-align: left;\">Int64</th><th title = \"Int64\" style = \"text-align: left;\">Int64</th><th title = \"Int64\" style = \"text-align: left;\">Int64</th><th title = \"Int64\" style = \"text-align: left;\">Int64</th><th title = \"Int64\" style = \"text-align: left;\">Int64</th><th title = \"Int64\" style = \"text-align: left;\">Int64</th><th title = \"Int64\" style = \"text-align: left;\">Int64</th><th title = \"Float64\" style = \"text-align: left;\">Float64</th><th title = \"Float64\" style = \"text-align: left;\">Float64</th></tr></thead><tbody><tr><td class = \"rowNumber\" style = \"font-weight: bold; text-align: right;\">1</td><td style = \"text-align: right;\">1</td><td style = \"text-align: right;\">1</td><td style = \"text-align: right;\">0</td><td style = \"text-align: right;\">0.0</td><td style = \"text-align: right;\">0</td><td style = \"text-align: right;\">0</td><td style = \"text-align: right;\">1</td><td style = \"text-align: right;\">1</td><td style = \"text-align: right;\">0</td><td style = \"text-align: right;\">230</td><td style = \"text-align: right;\">1</td><td style = \"text-align: right;\">1.1</td><td style = \"text-align: right;\">0.9</td></tr><tr><td class = \"rowNumber\" style = \"font-weight: bold; text-align: right;\">2</td><td style = \"text-align: right;\">2</td><td style = \"text-align: right;\">2</td><td style = \"text-align: right;\">0</td><td style = \"text-align: right;\">0.0</td><td style = \"text-align: right;\">0</td><td style = \"text-align: right;\">0</td><td style = \"text-align: right;\">1</td><td style = \"text-align: right;\">1</td><td style = \"text-align: right;\">0</td><td style = \"text-align: right;\">230</td><td style = \"text-align: right;\">1</td><td style = \"text-align: right;\">1.1</td><td style = \"text-align: right;\">0.9</td></tr><tr><td class = \"rowNumber\" style = \"font-weight: bold; text-align: right;\">3</td><td style = \"text-align: right;\">3</td><td style = \"text-align: right;\">2</td><td style = \"text-align: right;\">100</td><td style = \"text-align: right;\">98.61</td><td style = \"text-align: right;\">0</td><td style = \"text-align: right;\">0</td><td style = \"text-align: right;\">1</td><td style = \"text-align: right;\">1</td><td style = \"text-align: right;\">0</td><td style = \"text-align: right;\">230</td><td style = \"text-align: right;\">1</td><td style = \"text-align: right;\">1.1</td><td style = \"text-align: right;\">0.9</td></tr></tbody></table></div>"
      ],
      "text/latex": [
       "\\begin{tabular}{r|cccccccccccc}\n",
       "\t& bus\\_i & type & pd & qd & gs & bs & area & vm & va & basekv & zone & \\\\\n",
       "\t\\hline\n",
       "\t& Int64 & Int64 & Int64 & Float64 & Int64 & Int64 & Int64 & Int64 & Int64 & Int64 & Int64 & \\\\\n",
       "\t\\hline\n",
       "\t1 & 1 & 1 & 0 & 0.0 & 0 & 0 & 1 & 1 & 0 & 230 & 1 & $\\dots$ \\\\\n",
       "\t2 & 2 & 2 & 0 & 0.0 & 0 & 0 & 1 & 1 & 0 & 230 & 1 & $\\dots$ \\\\\n",
       "\t3 & 3 & 2 & 100 & 98.61 & 0 & 0 & 1 & 1 & 0 & 230 & 1 & $\\dots$ \\\\\n",
       "\\end{tabular}\n"
      ],
      "text/plain": [
       "\u001b[1m3×13 DataFrame\u001b[0m\n",
       "\u001b[1m Row \u001b[0m│\u001b[1m bus_i \u001b[0m\u001b[1m type  \u001b[0m\u001b[1m pd    \u001b[0m\u001b[1m qd      \u001b[0m\u001b[1m gs    \u001b[0m\u001b[1m bs    \u001b[0m\u001b[1m area  \u001b[0m\u001b[1m vm    \u001b[0m\u001b[1m va    \u001b[0m\u001b[1m basekv\u001b[0m ⋯\n",
       "     │\u001b[90m Int64 \u001b[0m\u001b[90m Int64 \u001b[0m\u001b[90m Int64 \u001b[0m\u001b[90m Float64 \u001b[0m\u001b[90m Int64 \u001b[0m\u001b[90m Int64 \u001b[0m\u001b[90m Int64 \u001b[0m\u001b[90m Int64 \u001b[0m\u001b[90m Int64 \u001b[0m\u001b[90m Int64 \u001b[0m ⋯\n",
       "─────┼──────────────────────────────────────────────────────────────────────────\n",
       "   1 │     1      1      0     0.0       0      0      1      1      0     230 ⋯\n",
       "   2 │     2      2      0     0.0       0      0      1      1      0     230\n",
       "   3 │     3      2    100    98.61      0      0      1      1      0     230\n",
       "\u001b[36m                                                               3 columns omitted\u001b[0m"
      ]
     },
     "execution_count": 127,
     "metadata": {},
     "output_type": "execute_result"
    }
   ],
   "source": [
    "# Bus set\n",
    "bus"
   ]
  },
  {
   "cell_type": "code",
   "execution_count": 126,
   "id": "97540abd-5da5-401b-ad42-3af74dd3bc63",
   "metadata": {},
   "outputs": [
    {
     "data": {
      "text/html": [
       "<div><div style = \"float: left;\"><span>1×22 DataFrame</span></div><div style = \"clear: both;\"></div></div><div class = \"data-frame\" style = \"overflow-x: scroll;\"><table class = \"data-frame\" style = \"margin-bottom: 6px;\"><thead><tr class = \"header\"><th class = \"rowNumber\" style = \"font-weight: bold; text-align: right;\">Row</th><th style = \"text-align: left;\">bus</th><th style = \"text-align: left;\">pg</th><th style = \"text-align: left;\">qg</th><th style = \"text-align: left;\">qmax</th><th style = \"text-align: left;\">qmin</th><th style = \"text-align: left;\">vg</th><th style = \"text-align: left;\">mbase</th><th style = \"text-align: left;\">status</th><th style = \"text-align: left;\">pmax</th><th style = \"text-align: left;\">pmin</th><th style = \"text-align: left;\">pc1</th><th style = \"text-align: left;\">pc2</th><th style = \"text-align: left;\">qc1min</th><th style = \"text-align: left;\">qc1max</th><th style = \"text-align: left;\">qc2min</th><th style = \"text-align: left;\">qc2max</th><th style = \"text-align: left;\">ramp_agc</th><th style = \"text-align: left;\">ramp_10</th><th style = \"text-align: left;\">ramp_30</th><th style = \"text-align: left;\">ramp_q</th><th style = \"text-align: left;\">apf</th><th style = \"text-align: left;\">id</th></tr><tr class = \"subheader headerLastRow\"><th class = \"rowNumber\" style = \"font-weight: bold; text-align: right;\"></th><th title = \"Int64\" style = \"text-align: left;\">Int64</th><th title = \"Int64\" style = \"text-align: left;\">Int64</th><th title = \"Int64\" style = \"text-align: left;\">Int64</th><th title = \"Int64\" style = \"text-align: left;\">Int64</th><th title = \"Int64\" style = \"text-align: left;\">Int64</th><th title = \"Int64\" style = \"text-align: left;\">Int64</th><th title = \"Int64\" style = \"text-align: left;\">Int64</th><th title = \"Int64\" style = \"text-align: left;\">Int64</th><th title = \"Int64\" style = \"text-align: left;\">Int64</th><th title = \"Int64\" style = \"text-align: left;\">Int64</th><th title = \"Int64\" style = \"text-align: left;\">Int64</th><th title = \"Int64\" style = \"text-align: left;\">Int64</th><th title = \"Int64\" style = \"text-align: left;\">Int64</th><th title = \"Int64\" style = \"text-align: left;\">Int64</th><th title = \"Int64\" style = \"text-align: left;\">Int64</th><th title = \"Int64\" style = \"text-align: left;\">Int64</th><th title = \"Int64\" style = \"text-align: left;\">Int64</th><th title = \"Int64\" style = \"text-align: left;\">Int64</th><th title = \"Int64\" style = \"text-align: left;\">Int64</th><th title = \"Int64\" style = \"text-align: left;\">Int64</th><th title = \"Int64\" style = \"text-align: left;\">Int64</th><th title = \"Int64\" style = \"text-align: left;\">Int64</th></tr></thead><tbody><tr><td class = \"rowNumber\" style = \"font-weight: bold; text-align: right;\">1</td><td style = \"text-align: right;\">1</td><td style = \"text-align: right;\">40</td><td style = \"text-align: right;\">0</td><td style = \"text-align: right;\">30</td><td style = \"text-align: right;\">-30</td><td style = \"text-align: right;\">1</td><td style = \"text-align: right;\">100</td><td style = \"text-align: right;\">1</td><td style = \"text-align: right;\">1000</td><td style = \"text-align: right;\">0</td><td style = \"text-align: right;\">0</td><td style = \"text-align: right;\">0</td><td style = \"text-align: right;\">0</td><td style = \"text-align: right;\">0</td><td style = \"text-align: right;\">0</td><td style = \"text-align: right;\">0</td><td style = \"text-align: right;\">0</td><td style = \"text-align: right;\">0</td><td style = \"text-align: right;\">0</td><td style = \"text-align: right;\">0</td><td style = \"text-align: right;\">0</td><td style = \"text-align: right;\">1</td></tr></tbody></table></div>"
      ],
      "text/latex": [
       "\\begin{tabular}{r|ccccccccccccc}\n",
       "\t& bus & pg & qg & qmax & qmin & vg & mbase & status & pmax & pmin & pc1 & pc2 & \\\\\n",
       "\t\\hline\n",
       "\t& Int64 & Int64 & Int64 & Int64 & Int64 & Int64 & Int64 & Int64 & Int64 & Int64 & Int64 & Int64 & \\\\\n",
       "\t\\hline\n",
       "\t1 & 1 & 40 & 0 & 30 & -30 & 1 & 100 & 1 & 1000 & 0 & 0 & 0 & $\\dots$ \\\\\n",
       "\\end{tabular}\n"
      ],
      "text/plain": [
       "\u001b[1m1×22 DataFrame\u001b[0m\n",
       "\u001b[1m Row \u001b[0m│\u001b[1m bus   \u001b[0m\u001b[1m pg    \u001b[0m\u001b[1m qg    \u001b[0m\u001b[1m qmax  \u001b[0m\u001b[1m qmin  \u001b[0m\u001b[1m vg    \u001b[0m\u001b[1m mbase \u001b[0m\u001b[1m status \u001b[0m\u001b[1m pmax  \u001b[0m\u001b[1m pmin  \u001b[0m\u001b[1m \u001b[0m ⋯\n",
       "     │\u001b[90m Int64 \u001b[0m\u001b[90m Int64 \u001b[0m\u001b[90m Int64 \u001b[0m\u001b[90m Int64 \u001b[0m\u001b[90m Int64 \u001b[0m\u001b[90m Int64 \u001b[0m\u001b[90m Int64 \u001b[0m\u001b[90m Int64  \u001b[0m\u001b[90m Int64 \u001b[0m\u001b[90m Int64 \u001b[0m\u001b[90m \u001b[0m ⋯\n",
       "─────┼──────────────────────────────────────────────────────────────────────────\n",
       "   1 │     1     40      0     30    -30      1    100       1   1000      0   ⋯\n",
       "\u001b[36m                                                              12 columns omitted\u001b[0m"
      ]
     },
     "execution_count": 126,
     "metadata": {},
     "output_type": "execute_result"
    }
   ],
   "source": [
    "# Generator set\n",
    "gen"
   ]
  },
  {
   "cell_type": "code",
   "execution_count": 125,
   "id": "b4712d17-e536-4add-bfab-c8873e3fbed7",
   "metadata": {},
   "outputs": [
    {
     "data": {
      "text/html": [
       "<div><div style = \"float: left;\"><span>1×7 DataFrame</span></div><div style = \"clear: both;\"></div></div><div class = \"data-frame\" style = \"overflow-x: scroll;\"><table class = \"data-frame\" style = \"margin-bottom: 6px;\"><thead><tr class = \"header\"><th class = \"rowNumber\" style = \"font-weight: bold; text-align: right;\">Row</th><th style = \"text-align: left;\">model</th><th style = \"text-align: left;\">startup</th><th style = \"text-align: left;\">shutdown</th><th style = \"text-align: left;\">n</th><th style = \"text-align: left;\">x1</th><th style = \"text-align: left;\">y1</th><th style = \"text-align: left;\">id</th></tr><tr class = \"subheader headerLastRow\"><th class = \"rowNumber\" style = \"font-weight: bold; text-align: right;\"></th><th title = \"Int64\" style = \"text-align: left;\">Int64</th><th title = \"Int64\" style = \"text-align: left;\">Int64</th><th title = \"Int64\" style = \"text-align: left;\">Int64</th><th title = \"Int64\" style = \"text-align: left;\">Int64</th><th title = \"Int64\" style = \"text-align: left;\">Int64</th><th title = \"Int64\" style = \"text-align: left;\">Int64</th><th title = \"Int64\" style = \"text-align: left;\">Int64</th></tr></thead><tbody><tr><td class = \"rowNumber\" style = \"font-weight: bold; text-align: right;\">1</td><td style = \"text-align: right;\">2</td><td style = \"text-align: right;\">0</td><td style = \"text-align: right;\">0</td><td style = \"text-align: right;\">2</td><td style = \"text-align: right;\">50</td><td style = \"text-align: right;\">0</td><td style = \"text-align: right;\">1</td></tr></tbody></table></div>"
      ],
      "text/latex": [
       "\\begin{tabular}{r|ccccccc}\n",
       "\t& model & startup & shutdown & n & x1 & y1 & id\\\\\n",
       "\t\\hline\n",
       "\t& Int64 & Int64 & Int64 & Int64 & Int64 & Int64 & Int64\\\\\n",
       "\t\\hline\n",
       "\t1 & 2 & 0 & 0 & 2 & 50 & 0 & 1 \\\\\n",
       "\\end{tabular}\n"
      ],
      "text/plain": [
       "\u001b[1m1×7 DataFrame\u001b[0m\n",
       "\u001b[1m Row \u001b[0m│\u001b[1m model \u001b[0m\u001b[1m startup \u001b[0m\u001b[1m shutdown \u001b[0m\u001b[1m n     \u001b[0m\u001b[1m x1    \u001b[0m\u001b[1m y1    \u001b[0m\u001b[1m id    \u001b[0m\n",
       "     │\u001b[90m Int64 \u001b[0m\u001b[90m Int64   \u001b[0m\u001b[90m Int64    \u001b[0m\u001b[90m Int64 \u001b[0m\u001b[90m Int64 \u001b[0m\u001b[90m Int64 \u001b[0m\u001b[90m Int64 \u001b[0m\n",
       "─────┼──────────────────────────────────────────────────────\n",
       "   1 │     2        0         0      2     50      0      1"
      ]
     },
     "execution_count": 125,
     "metadata": {},
     "output_type": "execute_result"
    }
   ],
   "source": [
    "# Generator cost set\n",
    "gencost"
   ]
  },
  {
   "cell_type": "code",
   "execution_count": 124,
   "id": "8b4f2969-d237-449c-b325-b523236a0fe3",
   "metadata": {},
   "outputs": [
    {
     "data": {
      "text/html": [
       "<div><div style = \"float: left;\"><span>8×15 DataFrame</span></div><div style = \"clear: both;\"></div></div><div class = \"data-frame\" style = \"overflow-x: scroll;\"><table class = \"data-frame\" style = \"margin-bottom: 6px;\"><thead><tr class = \"header\"><th class = \"rowNumber\" style = \"font-weight: bold; text-align: right;\">Row</th><th style = \"text-align: left;\">fbus</th><th style = \"text-align: left;\">tbus</th><th style = \"text-align: left;\">r</th><th style = \"text-align: left;\">x</th><th style = \"text-align: left;\">b</th><th style = \"text-align: left;\">ratea</th><th style = \"text-align: left;\">rateb</th><th style = \"text-align: left;\">ratec</th><th style = \"text-align: left;\">ratio</th><th style = \"text-align: left;\">angle</th><th style = \"text-align: left;\">status</th><th style = \"text-align: left;\">angmin</th><th style = \"text-align: left;\">angmax</th><th style = \"text-align: left;\">id</th><th style = \"text-align: left;\">sus</th></tr><tr class = \"subheader headerLastRow\"><th class = \"rowNumber\" style = \"font-weight: bold; text-align: right;\"></th><th title = \"Int64\" style = \"text-align: left;\">Int64</th><th title = \"Int64\" style = \"text-align: left;\">Int64</th><th title = \"Float64\" style = \"text-align: left;\">Float64</th><th title = \"Float64\" style = \"text-align: left;\">Float64</th><th title = \"Float64\" style = \"text-align: left;\">Float64</th><th title = \"Int64\" style = \"text-align: left;\">Int64</th><th title = \"Int64\" style = \"text-align: left;\">Int64</th><th title = \"Int64\" style = \"text-align: left;\">Int64</th><th title = \"Int64\" style = \"text-align: left;\">Int64</th><th title = \"Int64\" style = \"text-align: left;\">Int64</th><th title = \"Int64\" style = \"text-align: left;\">Int64</th><th title = \"Int64\" style = \"text-align: left;\">Int64</th><th title = \"Int64\" style = \"text-align: left;\">Int64</th><th title = \"Int64\" style = \"text-align: left;\">Int64</th><th title = \"Float64\" style = \"text-align: left;\">Float64</th></tr></thead><tbody><tr><td class = \"rowNumber\" style = \"font-weight: bold; text-align: right;\">1</td><td style = \"text-align: right;\">1</td><td style = \"text-align: right;\">3</td><td style = \"text-align: right;\">0.00281</td><td style = \"text-align: right;\">0.0281</td><td style = \"text-align: right;\">0.00712</td><td style = \"text-align: right;\">100</td><td style = \"text-align: right;\">100</td><td style = \"text-align: right;\">100</td><td style = \"text-align: right;\">0</td><td style = \"text-align: right;\">0</td><td style = \"text-align: right;\">1</td><td style = \"text-align: right;\">-360</td><td style = \"text-align: right;\">360</td><td style = \"text-align: right;\">1</td><td style = \"text-align: right;\">35.5872</td></tr><tr><td class = \"rowNumber\" style = \"font-weight: bold; text-align: right;\">2</td><td style = \"text-align: right;\">1</td><td style = \"text-align: right;\">3</td><td style = \"text-align: right;\">0.00281</td><td style = \"text-align: right;\">0.0281</td><td style = \"text-align: right;\">0.00712</td><td style = \"text-align: right;\">100</td><td style = \"text-align: right;\">100</td><td style = \"text-align: right;\">100</td><td style = \"text-align: right;\">0</td><td style = \"text-align: right;\">0</td><td style = \"text-align: right;\">1</td><td style = \"text-align: right;\">-360</td><td style = \"text-align: right;\">360</td><td style = \"text-align: right;\">2</td><td style = \"text-align: right;\">35.5872</td></tr><tr><td class = \"rowNumber\" style = \"font-weight: bold; text-align: right;\">3</td><td style = \"text-align: right;\">1</td><td style = \"text-align: right;\">2</td><td style = \"text-align: right;\">0.00281</td><td style = \"text-align: right;\">0.0281</td><td style = \"text-align: right;\">0.00712</td><td style = \"text-align: right;\">100</td><td style = \"text-align: right;\">100</td><td style = \"text-align: right;\">100</td><td style = \"text-align: right;\">0</td><td style = \"text-align: right;\">0</td><td style = \"text-align: right;\">1</td><td style = \"text-align: right;\">-360</td><td style = \"text-align: right;\">360</td><td style = \"text-align: right;\">3</td><td style = \"text-align: right;\">35.5872</td></tr><tr><td class = \"rowNumber\" style = \"font-weight: bold; text-align: right;\">4</td><td style = \"text-align: right;\">2</td><td style = \"text-align: right;\">3</td><td style = \"text-align: right;\">0.00281</td><td style = \"text-align: right;\">0.0281</td><td style = \"text-align: right;\">0.00712</td><td style = \"text-align: right;\">100</td><td style = \"text-align: right;\">100</td><td style = \"text-align: right;\">100</td><td style = \"text-align: right;\">0</td><td style = \"text-align: right;\">0</td><td style = \"text-align: right;\">1</td><td style = \"text-align: right;\">-360</td><td style = \"text-align: right;\">360</td><td style = \"text-align: right;\">4</td><td style = \"text-align: right;\">35.5872</td></tr><tr><td class = \"rowNumber\" style = \"font-weight: bold; text-align: right;\">5</td><td style = \"text-align: right;\">3</td><td style = \"text-align: right;\">1</td><td style = \"text-align: right;\">0.00281</td><td style = \"text-align: right;\">0.0281</td><td style = \"text-align: right;\">0.00712</td><td style = \"text-align: right;\">100</td><td style = \"text-align: right;\">100</td><td style = \"text-align: right;\">100</td><td style = \"text-align: right;\">0</td><td style = \"text-align: right;\">0</td><td style = \"text-align: right;\">1</td><td style = \"text-align: right;\">-360</td><td style = \"text-align: right;\">360</td><td style = \"text-align: right;\">1</td><td style = \"text-align: right;\">35.5872</td></tr><tr><td class = \"rowNumber\" style = \"font-weight: bold; text-align: right;\">6</td><td style = \"text-align: right;\">3</td><td style = \"text-align: right;\">1</td><td style = \"text-align: right;\">0.00281</td><td style = \"text-align: right;\">0.0281</td><td style = \"text-align: right;\">0.00712</td><td style = \"text-align: right;\">100</td><td style = \"text-align: right;\">100</td><td style = \"text-align: right;\">100</td><td style = \"text-align: right;\">0</td><td style = \"text-align: right;\">0</td><td style = \"text-align: right;\">1</td><td style = \"text-align: right;\">-360</td><td style = \"text-align: right;\">360</td><td style = \"text-align: right;\">2</td><td style = \"text-align: right;\">35.5872</td></tr><tr><td class = \"rowNumber\" style = \"font-weight: bold; text-align: right;\">7</td><td style = \"text-align: right;\">2</td><td style = \"text-align: right;\">1</td><td style = \"text-align: right;\">0.00281</td><td style = \"text-align: right;\">0.0281</td><td style = \"text-align: right;\">0.00712</td><td style = \"text-align: right;\">100</td><td style = \"text-align: right;\">100</td><td style = \"text-align: right;\">100</td><td style = \"text-align: right;\">0</td><td style = \"text-align: right;\">0</td><td style = \"text-align: right;\">1</td><td style = \"text-align: right;\">-360</td><td style = \"text-align: right;\">360</td><td style = \"text-align: right;\">3</td><td style = \"text-align: right;\">35.5872</td></tr><tr><td class = \"rowNumber\" style = \"font-weight: bold; text-align: right;\">8</td><td style = \"text-align: right;\">3</td><td style = \"text-align: right;\">2</td><td style = \"text-align: right;\">0.00281</td><td style = \"text-align: right;\">0.0281</td><td style = \"text-align: right;\">0.00712</td><td style = \"text-align: right;\">100</td><td style = \"text-align: right;\">100</td><td style = \"text-align: right;\">100</td><td style = \"text-align: right;\">0</td><td style = \"text-align: right;\">0</td><td style = \"text-align: right;\">1</td><td style = \"text-align: right;\">-360</td><td style = \"text-align: right;\">360</td><td style = \"text-align: right;\">4</td><td style = \"text-align: right;\">35.5872</td></tr></tbody></table></div>"
      ],
      "text/latex": [
       "\\begin{tabular}{r|cccccccccccc}\n",
       "\t& fbus & tbus & r & x & b & ratea & rateb & ratec & ratio & angle & status & \\\\\n",
       "\t\\hline\n",
       "\t& Int64 & Int64 & Float64 & Float64 & Float64 & Int64 & Int64 & Int64 & Int64 & Int64 & Int64 & \\\\\n",
       "\t\\hline\n",
       "\t1 & 1 & 3 & 0.00281 & 0.0281 & 0.00712 & 100 & 100 & 100 & 0 & 0 & 1 & $\\dots$ \\\\\n",
       "\t2 & 1 & 3 & 0.00281 & 0.0281 & 0.00712 & 100 & 100 & 100 & 0 & 0 & 1 & $\\dots$ \\\\\n",
       "\t3 & 1 & 2 & 0.00281 & 0.0281 & 0.00712 & 100 & 100 & 100 & 0 & 0 & 1 & $\\dots$ \\\\\n",
       "\t4 & 2 & 3 & 0.00281 & 0.0281 & 0.00712 & 100 & 100 & 100 & 0 & 0 & 1 & $\\dots$ \\\\\n",
       "\t5 & 3 & 1 & 0.00281 & 0.0281 & 0.00712 & 100 & 100 & 100 & 0 & 0 & 1 & $\\dots$ \\\\\n",
       "\t6 & 3 & 1 & 0.00281 & 0.0281 & 0.00712 & 100 & 100 & 100 & 0 & 0 & 1 & $\\dots$ \\\\\n",
       "\t7 & 2 & 1 & 0.00281 & 0.0281 & 0.00712 & 100 & 100 & 100 & 0 & 0 & 1 & $\\dots$ \\\\\n",
       "\t8 & 3 & 2 & 0.00281 & 0.0281 & 0.00712 & 100 & 100 & 100 & 0 & 0 & 1 & $\\dots$ \\\\\n",
       "\\end{tabular}\n"
      ],
      "text/plain": [
       "\u001b[1m8×15 DataFrame\u001b[0m\n",
       "\u001b[1m Row \u001b[0m│\u001b[1m fbus  \u001b[0m\u001b[1m tbus  \u001b[0m\u001b[1m r       \u001b[0m\u001b[1m x       \u001b[0m\u001b[1m b       \u001b[0m\u001b[1m ratea \u001b[0m\u001b[1m rateb \u001b[0m\u001b[1m ratec \u001b[0m\u001b[1m ratio \u001b[0m\u001b[1m an\u001b[0m ⋯\n",
       "     │\u001b[90m Int64 \u001b[0m\u001b[90m Int64 \u001b[0m\u001b[90m Float64 \u001b[0m\u001b[90m Float64 \u001b[0m\u001b[90m Float64 \u001b[0m\u001b[90m Int64 \u001b[0m\u001b[90m Int64 \u001b[0m\u001b[90m Int64 \u001b[0m\u001b[90m Int64 \u001b[0m\u001b[90m In\u001b[0m ⋯\n",
       "─────┼──────────────────────────────────────────────────────────────────────────\n",
       "   1 │     1      3  0.00281   0.0281  0.00712    100    100    100      0     ⋯\n",
       "   2 │     1      3  0.00281   0.0281  0.00712    100    100    100      0\n",
       "   3 │     1      2  0.00281   0.0281  0.00712    100    100    100      0\n",
       "   4 │     2      3  0.00281   0.0281  0.00712    100    100    100      0\n",
       "   5 │     3      1  0.00281   0.0281  0.00712    100    100    100      0     ⋯\n",
       "   6 │     3      1  0.00281   0.0281  0.00712    100    100    100      0\n",
       "   7 │     2      1  0.00281   0.0281  0.00712    100    100    100      0\n",
       "   8 │     3      2  0.00281   0.0281  0.00712    100    100    100      0\n",
       "\u001b[36m                                                               6 columns omitted\u001b[0m"
      ]
     },
     "execution_count": 124,
     "metadata": {},
     "output_type": "execute_result"
    }
   ],
   "source": [
    "# Transmission lines, with a row for each direction\n",
    "branch"
   ]
  },
  {
   "cell_type": "code",
   "execution_count": 146,
   "id": "a7a6335e-1a87-452e-8675-c866604b848a",
   "metadata": {},
   "outputs": [
    {
     "data": {
      "text/plain": [
       "dc_opf (generic function with 1 method)"
      ]
     },
     "execution_count": 146,
     "metadata": {},
     "output_type": "execute_result"
    }
   ],
   "source": [
    "#=\n",
    "Function to solve transport flow problem \n",
    "Inputs:\n",
    "    gen -- dataframe with generator info\n",
    "    branch -- dataframe with transmission lines info\n",
    "    gencost -- dataframe with generator info\n",
    "    bus -- dataframe with bus types and loads\n",
    "=#\n",
    "function dc_opf(gen, branch, gencost, bus)\n",
    "    Transport = Model(HiGHS.Optimizer)\n",
    "    BaseMVA = bus[:,:basekv][1]\n",
    "    \n",
    "    # Sets\n",
    "    Generators = gen.id\n",
    "    Nodes = bus.bus_i\n",
    "\n",
    "    # Decision variables\n",
    "    @variables(Transport, begin\n",
    "        GEN[Generators] >= 0\n",
    "        FLOW[Nodes,Nodes]\n",
    "        THETA[Nodes]\n",
    "        LOSSES[Nodes,Nodes]\n",
    "        AUX_F1[Nodes,Nodes] >=0\n",
    "        AUX_F2[Nodes,Nodes] >=0\n",
    "    end)\n",
    "\n",
    "    # Slack bus with reference angle = 0\n",
    "    fix(THETA[1],0)\n",
    "    \n",
    "    # Objective function\n",
    "    # Minimize the sum of all generator costs\n",
    "    @objective(Transport, \n",
    "        Min,\n",
    "        sum(gencost[g,:x1] * GEN[g] for g in Generators)\n",
    "    )\n",
    "\n",
    "    # Supply / demand balance constraints with losses\n",
    "    #    with two non-negative aux variables\n",
    "    @constraint(Transport, cBalance[i in Nodes],\n",
    "        sum(GEN[g] for g in gen[gen.bus .== i, :id]) - bus[bus.bus_i .== i, :pd][1] \n",
    "        == \n",
    "        sum(FLOW[i,j] for j in branch[branch.fbus .== i, :tbus])\n",
    "        + sum(LOSSES[i,j] for j in branch[branch.fbus .== i, :tbus])\n",
    "    )\n",
    "\n",
    "    # Auxilary variable flows\n",
    "    @constraint(Transport, cLineFlowsAux[l in 1:nrow(branch)],\n",
    "        FLOW[branch[l,:fbus], branch[l,:tbus]] == \n",
    "        AUX_F1[branch[l,:fbus], branch[l,:tbus]]\n",
    "        - AUX_F2[branch[l,:fbus], branch[l,:tbus]]\n",
    "    )\n",
    "\n",
    "    # Max generation constraints\n",
    "    @constraint(Transport, cMaxGen[g in Generators], GEN[g] <= gen[g,:pmax])\n",
    "\n",
    "    # Max line flow constraints\n",
    "    for l in 1:nrow(branch)\n",
    "        @constraint(Transport, FLOW[branch[l,:fbus],branch[l,:tbus]] <= branch[l, :ratea])\n",
    "    end\n",
    "    \n",
    "    # Flow from phase angle difference\n",
    "    @constraint(Transport, cLineFlows[l in 1:nrow(branch)],\n",
    "        FLOW[branch[l,:fbus],branch[l,:tbus]] ==\n",
    "        BaseMVA*branch[l,:sus]*(THETA[branch[l,:fbus]] - THETA[branch[l,:tbus]])\n",
    "    )\n",
    "\n",
    "    # Loss constraint\n",
    "    @constraint(Transport, cLineLosses[l in 1:nrow(branch)],\n",
    "        LOSSES[branch[l,:fbus], branch[l,:tbus]] >= \n",
    "        branch[l,:r] / BaseMVA # component 1, R / BaseMVA\n",
    "        * branch[l,:ratea]^2 # component 2, MaxFlow^2\n",
    "        * ((AUX_F1[branch[l,:fbus],branch[l,:tbus]] + AUX_F2[branch[l,:fbus],branch[l,:tbus]])\n",
    "            / branch[l,:ratea] - 0.165) # component 3, Flow / MaxFlow - 0.165\n",
    "    )\n",
    "\n",
    "    optimize!(Transport)\n",
    "\n",
    "    # Dataframe of optimal decision variables\n",
    "    generation = DataFrame(\n",
    "        id = gen.id,\n",
    "        node = gen.bus,\n",
    "        gen = value.(GEN).data\n",
    "    )\n",
    "\n",
    "    angles = value.(THETA).data\n",
    "    flows = DataFrame(\n",
    "        fbus = branch.fbus,\n",
    "        tbus = branch.tbus,\n",
    "        flow = BaseMVA .* branch.sus .* (angles[branch.fbus] - angles[branch.tbus])\n",
    "    )\n",
    "\n",
    "    \n",
    "    losses = DataFrame(\n",
    "        fbus = branch.fbus,\n",
    "        tbus = branch.tbus, \n",
    "        loss = branch.r ./ BaseMVA .* (branch.ratea.*branch.ratea) .* (abs.(flows.flow) ./ branch.ratea .- 0.165)\n",
    "    )\n",
    "\n",
    "    prices = DataFrame(\n",
    "        node = bus.bus_i,\n",
    "        value = dual.(cBalance).data\n",
    "    )\n",
    "\n",
    "    return (\n",
    "        generation = generation, \n",
    "        angles,\n",
    "        flows,\n",
    "        prices,\n",
    "        losses,\n",
    "        cost = objective_value(Transport),\n",
    "        status = termination_status(Transport)\n",
    "    )\n",
    "end"
   ]
  },
  {
   "cell_type": "code",
   "execution_count": 147,
   "id": "65dd726f-23c7-4d9e-8e61-c0b799efe767",
   "metadata": {},
   "outputs": [
    {
     "name": "stdout",
     "output_type": "stream",
     "text": [
      "Running HiGHS 1.7.0 (git hash: 50670fd4c): Copyright (c) 2024 HiGHS under MIT licence terms\n",
      "Coefficient ranges:\n",
      "  Matrix [1e-03, 8e+03]\n",
      "  Cost   [5e+01, 5e+01]\n",
      "  Bound  [0e+00, 0e+00]\n",
      "  RHS    [2e-02, 1e+03]\n",
      "Presolving model\n",
      "27 rows, 27 cols, 79 nonzeros  0s\n",
      "17 rows, 23 cols, 55 nonzeros  0s\n",
      "17 rows, 23 cols, 55 nonzeros  0s\n",
      "Presolve : Reductions: rows 17(-19); columns 23(-17); elements 55(-39)\n",
      "Solving the presolved LP\n",
      "Using EKK dual simplex solver - serial\n",
      "  Iteration        Objective     Infeasibilities num(sum)\n",
      "          0    -1.4098154045e-03 Pr: 9(475); Du: 0(6.30386e-12) 0s\n",
      "         17     5.0066070771e+03 Pr: 0(0) 0s\n",
      "Solving the original LP from the solution after postsolve\n",
      "Model   status      : Optimal\n",
      "Simplex   iterations: 17\n",
      "Objective value     :  5.0066070771e+03\n",
      "HiGHS run time      :          0.00\n"
     ]
    },
    {
     "data": {
      "text/html": [
       "<div><div style = \"float: left;\"><span>1×3 DataFrame</span></div><div style = \"clear: both;\"></div></div><div class = \"data-frame\" style = \"overflow-x: scroll;\"><table class = \"data-frame\" style = \"margin-bottom: 6px;\"><thead><tr class = \"header\"><th class = \"rowNumber\" style = \"font-weight: bold; text-align: right;\">Row</th><th style = \"text-align: left;\">id</th><th style = \"text-align: left;\">node</th><th style = \"text-align: left;\">gen</th></tr><tr class = \"subheader headerLastRow\"><th class = \"rowNumber\" style = \"font-weight: bold; text-align: right;\"></th><th title = \"Int64\" style = \"text-align: left;\">Int64</th><th title = \"Int64\" style = \"text-align: left;\">Int64</th><th title = \"Float64\" style = \"text-align: left;\">Float64</th></tr></thead><tbody><tr><td class = \"rowNumber\" style = \"font-weight: bold; text-align: right;\">1</td><td style = \"text-align: right;\">1</td><td style = \"text-align: right;\">1</td><td style = \"text-align: right;\">100.132</td></tr></tbody></table></div>"
      ],
      "text/latex": [
       "\\begin{tabular}{r|ccc}\n",
       "\t& id & node & gen\\\\\n",
       "\t\\hline\n",
       "\t& Int64 & Int64 & Float64\\\\\n",
       "\t\\hline\n",
       "\t1 & 1 & 1 & 100.132 \\\\\n",
       "\\end{tabular}\n"
      ],
      "text/plain": [
       "\u001b[1m1×3 DataFrame\u001b[0m\n",
       "\u001b[1m Row \u001b[0m│\u001b[1m id    \u001b[0m\u001b[1m node  \u001b[0m\u001b[1m gen     \u001b[0m\n",
       "     │\u001b[90m Int64 \u001b[0m\u001b[90m Int64 \u001b[0m\u001b[90m Float64 \u001b[0m\n",
       "─────┼───────────────────────\n",
       "   1 │     1      1  100.132"
      ]
     },
     "execution_count": 147,
     "metadata": {},
     "output_type": "execute_result"
    }
   ],
   "source": [
    "solution = dc_opf(gen, branch, gencost, bus)\n",
    "solution.generation"
   ]
  },
  {
   "cell_type": "code",
   "execution_count": 148,
   "id": "79559d92-a0e8-42e5-9a5a-e6da4cb69855",
   "metadata": {},
   "outputs": [
    {
     "data": {
      "text/html": [
       "<div><div style = \"float: left;\"><span>8×3 DataFrame</span></div><div style = \"clear: both;\"></div></div><div class = \"data-frame\" style = \"overflow-x: scroll;\"><table class = \"data-frame\" style = \"margin-bottom: 6px;\"><thead><tr class = \"header\"><th class = \"rowNumber\" style = \"font-weight: bold; text-align: right;\">Row</th><th style = \"text-align: left;\">fbus</th><th style = \"text-align: left;\">tbus</th><th style = \"text-align: left;\">flow</th></tr><tr class = \"subheader headerLastRow\"><th class = \"rowNumber\" style = \"font-weight: bold; text-align: right;\"></th><th title = \"Int64\" style = \"text-align: left;\">Int64</th><th title = \"Int64\" style = \"text-align: left;\">Int64</th><th title = \"Float64\" style = \"text-align: left;\">Float64</th></tr></thead><tbody><tr><td class = \"rowNumber\" style = \"font-weight: bold; text-align: right;\">1</td><td style = \"text-align: right;\">1</td><td style = \"text-align: right;\">3</td><td style = \"text-align: right;\">40.0264</td></tr><tr><td class = \"rowNumber\" style = \"font-weight: bold; text-align: right;\">2</td><td style = \"text-align: right;\">1</td><td style = \"text-align: right;\">3</td><td style = \"text-align: right;\">40.0264</td></tr><tr><td class = \"rowNumber\" style = \"font-weight: bold; text-align: right;\">3</td><td style = \"text-align: right;\">1</td><td style = \"text-align: right;\">2</td><td style = \"text-align: right;\">20.0175</td></tr><tr><td class = \"rowNumber\" style = \"font-weight: bold; text-align: right;\">4</td><td style = \"text-align: right;\">2</td><td style = \"text-align: right;\">3</td><td style = \"text-align: right;\">20.0089</td></tr><tr><td class = \"rowNumber\" style = \"font-weight: bold; text-align: right;\">5</td><td style = \"text-align: right;\">3</td><td style = \"text-align: right;\">1</td><td style = \"text-align: right;\">-40.0264</td></tr><tr><td class = \"rowNumber\" style = \"font-weight: bold; text-align: right;\">6</td><td style = \"text-align: right;\">3</td><td style = \"text-align: right;\">1</td><td style = \"text-align: right;\">-40.0264</td></tr><tr><td class = \"rowNumber\" style = \"font-weight: bold; text-align: right;\">7</td><td style = \"text-align: right;\">2</td><td style = \"text-align: right;\">1</td><td style = \"text-align: right;\">-20.0175</td></tr><tr><td class = \"rowNumber\" style = \"font-weight: bold; text-align: right;\">8</td><td style = \"text-align: right;\">3</td><td style = \"text-align: right;\">2</td><td style = \"text-align: right;\">-20.0089</td></tr></tbody></table></div>"
      ],
      "text/latex": [
       "\\begin{tabular}{r|ccc}\n",
       "\t& fbus & tbus & flow\\\\\n",
       "\t\\hline\n",
       "\t& Int64 & Int64 & Float64\\\\\n",
       "\t\\hline\n",
       "\t1 & 1 & 3 & 40.0264 \\\\\n",
       "\t2 & 1 & 3 & 40.0264 \\\\\n",
       "\t3 & 1 & 2 & 20.0175 \\\\\n",
       "\t4 & 2 & 3 & 20.0089 \\\\\n",
       "\t5 & 3 & 1 & -40.0264 \\\\\n",
       "\t6 & 3 & 1 & -40.0264 \\\\\n",
       "\t7 & 2 & 1 & -20.0175 \\\\\n",
       "\t8 & 3 & 2 & -20.0089 \\\\\n",
       "\\end{tabular}\n"
      ],
      "text/plain": [
       "\u001b[1m8×3 DataFrame\u001b[0m\n",
       "\u001b[1m Row \u001b[0m│\u001b[1m fbus  \u001b[0m\u001b[1m tbus  \u001b[0m\u001b[1m flow     \u001b[0m\n",
       "     │\u001b[90m Int64 \u001b[0m\u001b[90m Int64 \u001b[0m\u001b[90m Float64  \u001b[0m\n",
       "─────┼────────────────────────\n",
       "   1 │     1      3   40.0264\n",
       "   2 │     1      3   40.0264\n",
       "   3 │     1      2   20.0175\n",
       "   4 │     2      3   20.0089\n",
       "   5 │     3      1  -40.0264\n",
       "   6 │     3      1  -40.0264\n",
       "   7 │     2      1  -20.0175\n",
       "   8 │     3      2  -20.0089"
      ]
     },
     "execution_count": 148,
     "metadata": {},
     "output_type": "execute_result"
    }
   ],
   "source": [
    "solution.flows"
   ]
  },
  {
   "cell_type": "code",
   "execution_count": 149,
   "id": "26eb0e02-6b39-41af-acdb-964358b36300",
   "metadata": {},
   "outputs": [
    {
     "data": {
      "text/plain": [
       "3-element Vector{Float64}:\n",
       "  0.0\n",
       " -0.0024456169561819967\n",
       " -0.0048901851153129025"
      ]
     },
     "execution_count": 149,
     "metadata": {},
     "output_type": "execute_result"
    }
   ],
   "source": [
    "solution.angles"
   ]
  },
  {
   "cell_type": "code",
   "execution_count": 150,
   "id": "40a2beeb-5141-43f4-b191-52f595ee90f1",
   "metadata": {},
   "outputs": [
    {
     "data": {
      "text/html": [
       "<div><div style = \"float: left;\"><span>3×2 DataFrame</span></div><div style = \"clear: both;\"></div></div><div class = \"data-frame\" style = \"overflow-x: scroll;\"><table class = \"data-frame\" style = \"margin-bottom: 6px;\"><thead><tr class = \"header\"><th class = \"rowNumber\" style = \"font-weight: bold; text-align: right;\">Row</th><th style = \"text-align: left;\">node</th><th style = \"text-align: left;\">value</th></tr><tr class = \"subheader headerLastRow\"><th class = \"rowNumber\" style = \"font-weight: bold; text-align: right;\"></th><th title = \"Int64\" style = \"text-align: left;\">Int64</th><th title = \"Float64\" style = \"text-align: left;\">Float64</th></tr></thead><tbody><tr><td class = \"rowNumber\" style = \"font-weight: bold; text-align: right;\">1</td><td style = \"text-align: right;\">1</td><td style = \"text-align: right;\">50.0</td></tr><tr><td class = \"rowNumber\" style = \"font-weight: bold; text-align: right;\">2</td><td style = \"text-align: right;\">2</td><td style = \"text-align: right;\">50.0733</td></tr><tr><td class = \"rowNumber\" style = \"font-weight: bold; text-align: right;\">3</td><td style = \"text-align: right;\">3</td><td style = \"text-align: right;\">50.1468</td></tr></tbody></table></div>"
      ],
      "text/latex": [
       "\\begin{tabular}{r|cc}\n",
       "\t& node & value\\\\\n",
       "\t\\hline\n",
       "\t& Int64 & Float64\\\\\n",
       "\t\\hline\n",
       "\t1 & 1 & 50.0 \\\\\n",
       "\t2 & 2 & 50.0733 \\\\\n",
       "\t3 & 3 & 50.1468 \\\\\n",
       "\\end{tabular}\n"
      ],
      "text/plain": [
       "\u001b[1m3×2 DataFrame\u001b[0m\n",
       "\u001b[1m Row \u001b[0m│\u001b[1m node  \u001b[0m\u001b[1m value   \u001b[0m\n",
       "     │\u001b[90m Int64 \u001b[0m\u001b[90m Float64 \u001b[0m\n",
       "─────┼────────────────\n",
       "   1 │     1  50.0\n",
       "   2 │     2  50.0733\n",
       "   3 │     3  50.1468"
      ]
     },
     "execution_count": 150,
     "metadata": {},
     "output_type": "execute_result"
    }
   ],
   "source": [
    "solution.prices"
   ]
  },
  {
   "cell_type": "code",
   "execution_count": 151,
   "id": "84557d5e-9dc6-4506-a761-c47bf4cf9fb5",
   "metadata": {},
   "outputs": [
    {
     "data": {
      "text/html": [
       "<div><div style = \"float: left;\"><span>8×3 DataFrame</span></div><div style = \"clear: both;\"></div></div><div class = \"data-frame\" style = \"overflow-x: scroll;\"><table class = \"data-frame\" style = \"margin-bottom: 6px;\"><thead><tr class = \"header\"><th class = \"rowNumber\" style = \"font-weight: bold; text-align: right;\">Row</th><th style = \"text-align: left;\">fbus</th><th style = \"text-align: left;\">tbus</th><th style = \"text-align: left;\">loss</th></tr><tr class = \"subheader headerLastRow\"><th class = \"rowNumber\" style = \"font-weight: bold; text-align: right;\"></th><th title = \"Int64\" style = \"text-align: left;\">Int64</th><th title = \"Int64\" style = \"text-align: left;\">Int64</th><th title = \"Float64\" style = \"text-align: left;\">Float64</th></tr></thead><tbody><tr><td class = \"rowNumber\" style = \"font-weight: bold; text-align: right;\">1</td><td style = \"text-align: right;\">1</td><td style = \"text-align: right;\">3</td><td style = \"text-align: right;\">0.0287432</td></tr><tr><td class = \"rowNumber\" style = \"font-weight: bold; text-align: right;\">2</td><td style = \"text-align: right;\">1</td><td style = \"text-align: right;\">3</td><td style = \"text-align: right;\">0.0287432</td></tr><tr><td class = \"rowNumber\" style = \"font-weight: bold; text-align: right;\">3</td><td style = \"text-align: right;\">1</td><td style = \"text-align: right;\">2</td><td style = \"text-align: right;\">0.00429747</td></tr><tr><td class = \"rowNumber\" style = \"font-weight: bold; text-align: right;\">4</td><td style = \"text-align: right;\">2</td><td style = \"text-align: right;\">3</td><td style = \"text-align: right;\">0.00428699</td></tr><tr><td class = \"rowNumber\" style = \"font-weight: bold; text-align: right;\">5</td><td style = \"text-align: right;\">3</td><td style = \"text-align: right;\">1</td><td style = \"text-align: right;\">0.0287432</td></tr><tr><td class = \"rowNumber\" style = \"font-weight: bold; text-align: right;\">6</td><td style = \"text-align: right;\">3</td><td style = \"text-align: right;\">1</td><td style = \"text-align: right;\">0.0287432</td></tr><tr><td class = \"rowNumber\" style = \"font-weight: bold; text-align: right;\">7</td><td style = \"text-align: right;\">2</td><td style = \"text-align: right;\">1</td><td style = \"text-align: right;\">0.00429747</td></tr><tr><td class = \"rowNumber\" style = \"font-weight: bold; text-align: right;\">8</td><td style = \"text-align: right;\">3</td><td style = \"text-align: right;\">2</td><td style = \"text-align: right;\">0.00428699</td></tr></tbody></table></div>"
      ],
      "text/latex": [
       "\\begin{tabular}{r|ccc}\n",
       "\t& fbus & tbus & loss\\\\\n",
       "\t\\hline\n",
       "\t& Int64 & Int64 & Float64\\\\\n",
       "\t\\hline\n",
       "\t1 & 1 & 3 & 0.0287432 \\\\\n",
       "\t2 & 1 & 3 & 0.0287432 \\\\\n",
       "\t3 & 1 & 2 & 0.00429747 \\\\\n",
       "\t4 & 2 & 3 & 0.00428699 \\\\\n",
       "\t5 & 3 & 1 & 0.0287432 \\\\\n",
       "\t6 & 3 & 1 & 0.0287432 \\\\\n",
       "\t7 & 2 & 1 & 0.00429747 \\\\\n",
       "\t8 & 3 & 2 & 0.00428699 \\\\\n",
       "\\end{tabular}\n"
      ],
      "text/plain": [
       "\u001b[1m8×3 DataFrame\u001b[0m\n",
       "\u001b[1m Row \u001b[0m│\u001b[1m fbus  \u001b[0m\u001b[1m tbus  \u001b[0m\u001b[1m loss       \u001b[0m\n",
       "     │\u001b[90m Int64 \u001b[0m\u001b[90m Int64 \u001b[0m\u001b[90m Float64    \u001b[0m\n",
       "─────┼──────────────────────────\n",
       "   1 │     1      3  0.0287432\n",
       "   2 │     1      3  0.0287432\n",
       "   3 │     1      2  0.00429747\n",
       "   4 │     2      3  0.00428699\n",
       "   5 │     3      1  0.0287432\n",
       "   6 │     3      1  0.0287432\n",
       "   7 │     2      1  0.00429747\n",
       "   8 │     3      2  0.00428699"
      ]
     },
     "execution_count": 151,
     "metadata": {},
     "output_type": "execute_result"
    }
   ],
   "source": [
    "solution.losses"
   ]
  },
  {
   "cell_type": "code",
   "execution_count": null,
   "id": "4b380b52-05c5-4b47-a892-af197a912cc5",
   "metadata": {},
   "outputs": [],
   "source": []
  }
 ],
 "metadata": {
  "kernelspec": {
   "display_name": "Julia 1.10.3",
   "language": "julia",
   "name": "julia-1.10"
  },
  "language_info": {
   "file_extension": ".jl",
   "mimetype": "application/julia",
   "name": "julia",
   "version": "1.10.3"
  }
 },
 "nbformat": 4,
 "nbformat_minor": 5
}
