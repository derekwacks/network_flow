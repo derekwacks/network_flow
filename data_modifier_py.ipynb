{
 "cells": [
  {
   "cell_type": "code",
   "execution_count": 57,
   "id": "d8bcb161",
   "metadata": {},
   "outputs": [
    {
     "name": "stdout",
     "output_type": "stream",
     "text": [
      "{'branch':    fbus  tbus        r       x        b  rateA  rateB  rateC  ratio  angle  \\\n",
      "0     1     2  0.00281  0.0281  0.00712    500    500    500      0      0   \n",
      "1     1     3  0.00281  0.0281  0.00712    500    500    500      0      0   \n",
      "2     2     4  0.00281  0.0281  0.00712    500    500    500      0      0   \n",
      "3     3     4  0.00281  0.0281  0.00712    500    500    500      0      0   \n",
      "\n",
      "   status  angmin  angmax  \n",
      "0       1    -360     360  \n",
      "1       1    -360     360  \n",
      "2       1    -360     360  \n",
      "3       1    -360     360  ,\n",
      " 'bus':    bus_i  type   Pd     Qd  Gs  Bs  area  Vm  Va  baseKV  zone  Vmax  Vmin\n",
      "0      1     2    0   0.00   0   0     1   1   0     230     1   1.1   0.9\n",
      "1      2     1    0   0.00   0   0     1   1   0     230     1   1.1   0.9\n",
      "2      3     1    0   0.00   0   0     1   1   0     230     1   1.1   0.9\n",
      "3      4     1  600  98.61   0   0     1   1   0     230     1   1.1   0.9,\n",
      " 'gen':    bus  Pg  Qg  Qmax  Qmin  Vg  mBase  status  Pmax  Pmin  ...  Pc2  Qc1min  \\\n",
      "0    1  40   0    30   -30   1    100       1  1000     0  ...    0       0   \n",
      "\n",
      "   Qc1max  Qc2min  Qc2max  ramp_agc  ramp_10  ramp_30  ramp_q  apf  \n",
      "0       0       0       0         0        0        0       0    0  \n",
      "\n",
      "[1 rows x 21 columns],\n",
      " 'gencost':    model  startup  shutdown  n  x1  y1\n",
      "0      2        0         0  2  50   0}\n"
     ]
    }
   ],
   "source": [
    "import pandas\n",
    "import os\n",
    "import pprint\n",
    "\n",
    "def get_data(data_dir, file_name):\n",
    "    \"\"\"\n",
    "    data_dir: directory where data files are saved\n",
    "    file_name: name of data file\n",
    "    returns: csv as pandas df\n",
    "    \"\"\"\n",
    "    df = pandas.read_csv(os.path.join(data_dir, file_name))\n",
    "    return df\n",
    "    \n",
    "def get_from_all_files(data_dir):\n",
    "    \"\"\"\n",
    "    returns: dict of pandas df's \n",
    "    \"\"\"\n",
    "    f_names = os.listdir(data_dir)\n",
    "    data = {}\n",
    "    for f in f_names:\n",
    "        data[f.split(\".\")[0]] = get_data(data_dir, f)\n",
    "    return data\n",
    "\n",
    "def add_branch(data):\n",
    "    \"\"\"\n",
    "    data: dictionary of pandas df's\n",
    "    return: dictionary with dataframes, with branch added\n",
    "    \"\"\"\n",
    "    df = data.get(\"branch\")\n",
    "    if df is not None: \n",
    "        df2 = {'fbus': 2, \n",
    "               'tbus': 3,  \n",
    "               'r': 0.00281, \n",
    "               'x': 0.0281, \n",
    "               'b': 0.00712, \n",
    "               'rateA': 500, \n",
    "               'rateB': 500, \n",
    "               'rateC': 500, \n",
    "               'ratio': 0, \n",
    "               'angle': 0\n",
    "              }\n",
    "        df = df._append(df2, ignore_index = True)\n",
    "        data[\"branch\"] = df\n",
    "    return data\n",
    "    \n",
    "def write_file(data_dir, data):\n",
    "    f_name = \"branch.csv\"\n",
    "    if \"branch\" in data.keys():\n",
    "        branch_data = data[\"branch\"]\n",
    "        branch_data.to_csv(os.path.join(data_dir, f_name))\n",
    "    return\n",
    "\n",
    "\n",
    "data = get_from_all_files(\"opf_data/four_nodes\")\n",
    "pprint.pprint(data)"
   ]
  },
  {
   "cell_type": "code",
   "execution_count": null,
   "id": "4a0de492",
   "metadata": {},
   "outputs": [],
   "source": []
  }
 ],
 "metadata": {
  "kernelspec": {
   "display_name": "Python 3 (ipykernel)",
   "language": "python",
   "name": "python3"
  },
  "language_info": {
   "codemirror_mode": {
    "name": "ipython",
    "version": 3
   },
   "file_extension": ".py",
   "mimetype": "text/x-python",
   "name": "python",
   "nbconvert_exporter": "python",
   "pygments_lexer": "ipython3",
   "version": "3.8.8"
  }
 },
 "nbformat": 4,
 "nbformat_minor": 5
}
