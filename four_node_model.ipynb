{
 "cells": [
  {
   "cell_type": "code",
   "execution_count": 1,
   "id": "01017351",
   "metadata": {},
   "outputs": [
    {
     "name": "stderr",
     "output_type": "stream",
     "text": [
      "\u001b[32m\u001b[1m    Updating\u001b[22m\u001b[39m registry at `~/.julia/registries/General.toml`\n",
      "\u001b[32m\u001b[1m   Resolving\u001b[22m\u001b[39m package versions...\n",
      "\u001b[32m\u001b[1m  No Changes\u001b[22m\u001b[39m to `~/Documents/climate/braess/Untitled Folder/Project.toml`\n",
      "\u001b[32m\u001b[1m  No Changes\u001b[22m\u001b[39m to `~/Documents/climate/braess/Untitled Folder/Manifest.toml`\n",
      "\u001b[32m\u001b[1m   Resolving\u001b[22m\u001b[39m package versions...\n",
      "\u001b[32m\u001b[1m  No Changes\u001b[22m\u001b[39m to `~/Documents/climate/braess/Untitled Folder/Project.toml`\n",
      "\u001b[32m\u001b[1m  No Changes\u001b[22m\u001b[39m to `~/Documents/climate/braess/Untitled Folder/Manifest.toml`\n"
     ]
    }
   ],
   "source": [
    "import Pkg\n",
    "Pkg.add(\"JuMP\")\n",
    "Pkg.add(\"HiGHS\")"
   ]
  },
  {
   "cell_type": "code",
   "execution_count": 3,
   "id": "3164aef0",
   "metadata": {},
   "outputs": [],
   "source": [
    "using JuMP  # open source modelling language\n",
    "using HiGHS  # interface for the open source HiGHS solver for linear optimization"
   ]
  },
  {
   "cell_type": "code",
   "execution_count": 6,
   "id": "b69a9e2d-8d9c-4d4d-ab0a-9b22d9c27c28",
   "metadata": {},
   "outputs": [
    {
     "name": "stdout",
     "output_type": "stream",
     "text": [
      "\u001b[32m\u001b[1mStatus\u001b[22m\u001b[39m `~/Documents/climate/braess/Untitled Folder/Project.toml`\n",
      "  \u001b[90m[87dc4568] \u001b[39mHiGHS v1.12.0\n",
      "  \u001b[90m[7073ff75] \u001b[39mIJulia v1.26.0\n",
      "\u001b[32m⌃\u001b[39m \u001b[90m[4076af6c] \u001b[39mJuMP v1.23.3\n",
      "\u001b[36m\u001b[1mInfo\u001b[22m\u001b[39m Packages marked with \u001b[32m⌃\u001b[39m have new versions available and may be upgradable.\n"
     ]
    }
   ],
   "source": [
    "Pkg.status()  # check what packages we've installed"
   ]
  },
  {
   "cell_type": "code",
   "execution_count": 10,
   "id": "38762909-bc98-4683-a388-51467c0b8a47",
   "metadata": {},
   "outputs": [],
   "source": [
    "#if is_empty(flow_model)\n",
    "#    empty!(flow_model)\n",
    "#end\n",
    "# define the model\n",
    "flow_model = Model();\n",
    "# specify the solver\n",
    "set_optimizer(flow_model, HiGHS.Optimizer)\n",
    "flow_model = Model(HiGHS.Optimizer);"
   ]
  },
  {
   "cell_type": "code",
   "execution_count": 11,
   "id": "b0e4105e-45ea-4f9c-b4fb-68048e93c0b3",
   "metadata": {},
   "outputs": [
    {
     "data": {
      "text/latex": [
       "$ a\\_c\\_cost + c\\_d\\_cost $"
      ],
      "text/plain": [
       "a_c_cost + c_d_cost"
      ]
     },
     "execution_count": 11,
     "metadata": {},
     "output_type": "execute_result"
    }
   ],
   "source": [
    "# variables\n",
    "@variable(flow_model, f1>=0)\n",
    "@variable(flow_model, f2>=0)\n",
    "@variable(flow_model, a_b_cost>=0)\n",
    "@variable(flow_model, a_c_cost>=0)\n",
    "@variable(flow_model, b_d_cost>=0)\n",
    "@variable(flow_model, c_d_cost>=0)\n",
    "supply = 6\n",
    "demand = 6\n",
    "path_1=a_b_cost+b_d_cost\n",
    "path_2=a_c_cost+c_d_cost"
   ]
  },
  {
   "cell_type": "code",
   "execution_count": 12,
   "id": "1b9ed721-5629-4c9b-a24c-8634b0e3ee58",
   "metadata": {},
   "outputs": [
    {
     "data": {
      "text/latex": [
       "$$ \\begin{aligned}\n",
       "\\text{feasibility}\\\\\n",
       "\\text{Subject to} \\quad & -10 f1 + a\\_b\\_cost = 0\\\\\n",
       " & -f2 + a\\_c\\_cost = 50\\\\\n",
       " & -f1 + b\\_d\\_cost = 50\\\\\n",
       " & -10 f2 + c\\_d\\_cost = 0\\\\\n",
       " & a\\_b\\_cost - a\\_c\\_cost + b\\_d\\_cost - c\\_d\\_cost = 0\\\\\n",
       " & -f1 - f2 = -6\\\\\n",
       " & f1 \\geq 0\\\\\n",
       " & f2 \\geq 0\\\\\n",
       " & a\\_b\\_cost \\geq 0\\\\\n",
       " & a\\_c\\_cost \\geq 0\\\\\n",
       " & b\\_d\\_cost \\geq 0\\\\\n",
       " & c\\_d\\_cost \\geq 0\\\\\n",
       "\\end{aligned} $$"
      ]
     },
     "metadata": {},
     "output_type": "display_data"
    }
   ],
   "source": [
    "# constraints\n",
    "ab_cost_const = @constraint(flow_model, a_b_cost == 10*f1)\n",
    "ac_cost_const = @constraint(flow_model, a_c_cost == f2 + 50)\n",
    "bd_cost_const = @constraint(flow_model, b_d_cost == f1 + 50)\n",
    "cd_cost_const = @constraint(flow_model, c_d_cost == 10*f2)\n",
    "equal_cost = @constraint(flow_model, a_b_cost + b_d_cost == a_c_cost + c_d_cost) \n",
    "supply_eq_flow = @constraint(flow_model, supply == f1 + f2)\n",
    "\n",
    "print(flow_model)"
   ]
  },
  {
   "cell_type": "code",
   "execution_count": 13,
   "id": "15153a2a-3080-414a-ad73-7d92126555b0",
   "metadata": {},
   "outputs": [
    {
     "data": {
      "text/latex": [
       "$$ \\begin{aligned}\n",
       "\\min\\quad & 0.5 a\\_b\\_cost + 0.5 b\\_d\\_cost + 0.5 a\\_c\\_cost + 0.5 c\\_d\\_cost\\\\\n",
       "\\text{Subject to} \\quad & -10 f1 + a\\_b\\_cost = 0\\\\\n",
       " & -f2 + a\\_c\\_cost = 50\\\\\n",
       " & -f1 + b\\_d\\_cost = 50\\\\\n",
       " & -10 f2 + c\\_d\\_cost = 0\\\\\n",
       " & a\\_b\\_cost - a\\_c\\_cost + b\\_d\\_cost - c\\_d\\_cost = 0\\\\\n",
       " & -f1 - f2 = -6\\\\\n",
       " & f1 \\geq 0\\\\\n",
       " & f2 \\geq 0\\\\\n",
       " & a\\_b\\_cost \\geq 0\\\\\n",
       " & a\\_c\\_cost \\geq 0\\\\\n",
       " & b\\_d\\_cost \\geq 0\\\\\n",
       " & c\\_d\\_cost \\geq 0\\\\\n",
       "\\end{aligned} $$"
      ]
     },
     "metadata": {},
     "output_type": "display_data"
    }
   ],
   "source": [
    "# objective function\n",
    "@expression(flow_model, objective, ((a_b_cost+b_d_cost)+(a_c_cost+c_d_cost))/2)\n",
    "@objective(flow_model, Min, objective)\n",
    "\n",
    "print(flow_model)"
   ]
  },
  {
   "cell_type": "code",
   "execution_count": 14,
   "id": "31a1ffa7-2114-469d-bfb2-09dfb26cf1c8",
   "metadata": {},
   "outputs": [
    {
     "name": "stdout",
     "output_type": "stream",
     "text": [
      "Running HiGHS 1.8.0 (git hash: fcfb53414): Copyright (c) 2024 HiGHS under MIT licence terms\n",
      "Coefficient ranges:\n",
      "  Matrix [1e+00, 1e+01]\n",
      "  Cost   [5e-01, 5e-01]\n",
      "  Bound  [0e+00, 0e+00]\n",
      "  RHS    [6e+00, 5e+01]\n",
      "Presolving model\n",
      "0 rows, 0 cols, 0 nonzeros  0s\n",
      "0 rows, 0 cols, 0 nonzeros  0s\n",
      "Presolve : Reductions: rows 0(-6); columns 0(-6); elements 0(-14) - Reduced to empty\n",
      "Solving the original LP from the solution after postsolve\n",
      "Model   status      : Optimal\n",
      "Objective value     :  8.3000000000e+01\n",
      "HiGHS run time      :          0.00\n"
     ]
    }
   ],
   "source": [
    "optimize!(flow_model)"
   ]
  },
  {
   "cell_type": "code",
   "execution_count": 15,
   "id": "ef2978cd-747a-41d4-bccd-fe9213ab41b5",
   "metadata": {},
   "outputs": [
    {
     "name": "stdout",
     "output_type": "stream",
     "text": [
      "f1: 2.9999999999999996\n",
      "a to b: 29.999999999999996\n",
      "b to d: 53.0\n",
      "f2: 3.0000000000000004\n",
      "a to c: 53.0\n",
      "c to d: 30.000000000000004\n"
     ]
    }
   ],
   "source": [
    "println(\"f1: \", value.(f1));\n",
    "println(\"a to b: \", value.(a_b_cost));\n",
    "println(\"b to d: \", value.(b_d_cost));\n",
    "\n",
    "println(\"f2: \", value.(f2));\n",
    "println(\"a to c: \", value.(a_c_cost));\n",
    "println(\"c to d: \", value.(c_d_cost))"
   ]
  },
  {
   "cell_type": "code",
   "execution_count": 16,
   "id": "012b69f8-a83a-4449-9a2a-79125fcf91f1",
   "metadata": {},
   "outputs": [
    {
     "data": {
      "text/plain": [
       "83.0"
      ]
     },
     "execution_count": 16,
     "metadata": {},
     "output_type": "execute_result"
    }
   ],
   "source": [
    "path1 = value.(a_b_cost) + value.(b_d_cost)\n",
    "path2 = value.(a_c_cost) + value.(c_d_cost)"
   ]
  },
  {
   "cell_type": "code",
   "execution_count": null,
   "id": "a8be0e77-f6a8-4c14-a669-0657d15d3e3b",
   "metadata": {},
   "outputs": [],
   "source": []
  }
 ],
 "metadata": {
  "kernelspec": {
   "display_name": "Julia 1.10.3",
   "language": "julia",
   "name": "julia-1.10"
  },
  "language_info": {
   "file_extension": ".jl",
   "mimetype": "application/julia",
   "name": "julia",
   "version": "1.10.3"
  }
 },
 "nbformat": 4,
 "nbformat_minor": 5
}
