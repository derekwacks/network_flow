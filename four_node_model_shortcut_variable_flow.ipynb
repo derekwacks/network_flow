{
 "cells": [
  {
   "cell_type": "code",
   "execution_count": 2,
   "id": "01017351",
   "metadata": {},
   "outputs": [
    {
     "name": "stderr",
     "output_type": "stream",
     "text": [
      "\u001b[32m\u001b[1m   Resolving\u001b[22m\u001b[39m package versions...\n",
      "\u001b[32m\u001b[1m  No Changes\u001b[22m\u001b[39m to `~/Documents/climate/braess/network_models/Project.toml`\n",
      "\u001b[32m\u001b[1m  No Changes\u001b[22m\u001b[39m to `~/Documents/climate/braess/network_models/Manifest.toml`\n",
      "\u001b[32m\u001b[1m   Resolving\u001b[22m\u001b[39m package versions...\n",
      "\u001b[32m\u001b[1m  No Changes\u001b[22m\u001b[39m to `~/Documents/climate/braess/network_models/Project.toml`\n",
      "\u001b[32m\u001b[1m  No Changes\u001b[22m\u001b[39m to `~/Documents/climate/braess/network_models/Manifest.toml`\n"
     ]
    },
    {
     "name": "stdout",
     "output_type": "stream",
     "text": [
      "\u001b[32m\u001b[1mStatus\u001b[22m\u001b[39m `~/Documents/climate/braess/network_models/Project.toml`\n",
      "  \u001b[90m[87dc4568] \u001b[39mHiGHS v1.12.0\n",
      "  \u001b[90m[7073ff75] \u001b[39mIJulia v1.26.0\n",
      "\u001b[32m⌃\u001b[39m \u001b[90m[4076af6c] \u001b[39mJuMP v1.23.3\n",
      "\u001b[36m\u001b[1mInfo\u001b[22m\u001b[39m Packages marked with \u001b[32m⌃\u001b[39m have new versions available and may be upgradable.\n"
     ]
    }
   ],
   "source": [
    "import Pkg\n",
    "Pkg.add(\"JuMP\")\n",
    "Pkg.add(\"HiGHS\")\n",
    "using JuMP  # open source modelling language\n",
    "using HiGHS  # interface for the open source HiGHS solver for linear optimization\n",
    "Pkg.status()  # check what packages we've installed"
   ]
  },
  {
   "cell_type": "code",
   "execution_count": 13,
   "id": "e8592f17-ba02-4926-a305-0417d814e0f0",
   "metadata": {},
   "outputs": [
    {
     "data": {
      "text/plain": [
       "new_flow_model (generic function with 1 method)"
      ]
     },
     "execution_count": 13,
     "metadata": {},
     "output_type": "execute_result"
    }
   ],
   "source": [
    "function new_flow_model(params_dict)\n",
    "    #=\n",
    "    params_dict: supply, demand, a_b_congestion, a_c_congestion, b_d_congestion, \n",
    "        c_d_congestion, b_c_congestion, include_shortcut\n",
    "    returns: JuMP model\n",
    "    =#\n",
    "    # define the model\n",
    "    flow_model = Model();\n",
    "    # specify the solver\n",
    "    set_optimizer(flow_model, HiGHS.Optimizer)\n",
    "    #flow_model = Model(HiGHS.Optimizer);\n",
    "    @variable(flow_model, include_shortcut==Int(params_dict[:include_shortcut]))\n",
    "    \n",
    "    # variables\n",
    "    @variable(flow_model, a_b_flow>=0, Int)\n",
    "    @variable(flow_model, a_c_flow>=0, Int)\n",
    "    @variable(flow_model, b_d_flow>=0, Int)\n",
    "    @variable(flow_model, c_d_flow>=0, Int)\n",
    "    \n",
    "    @variable(flow_model, a_b_cost>=0)\n",
    "    @variable(flow_model, a_c_cost>=0)\n",
    "    @variable(flow_model, b_d_cost>=0)\n",
    "    @variable(flow_model, c_d_cost>=0)\n",
    "\n",
    "    # constraints\n",
    "    ab_cost_const = @constraint(flow_model, a_b_cost == params_dict[:a_b_congestion]*a_b_flow)\n",
    "    ac_cost_const = @constraint(flow_model, a_c_cost == a_c_flow + params_dict[:a_c_congestion])\n",
    "    bd_cost_const = @constraint(flow_model, b_d_cost == b_d_flow + params_dict[:b_d_congestion])\n",
    "    cd_cost_const = @constraint(flow_model, c_d_cost == params_dict[:c_d_congestion]*c_d_flow)\n",
    "    \n",
    "    #equal_cost = @constraint(flow_model, a_b_cost + b_d_cost == a_c_cost + c_d_cost) \n",
    "    \n",
    "    supply_eq_flow = @constraint(flow_model, params_dict[:supply] == a_b_flow + a_c_flow)\n",
    "    demand_eq_flow = @constraint(flow_model, params_dict[:demand] == b_d_flow + c_d_flow)\n",
    "\n",
    "    if params_dict[:include_shortcut] == true\n",
    "        @variable(flow_model, b_c_flow == 1)\n",
    "        @variable(flow_model, b_c_cost >= 0)\n",
    "        bc_cost_const = @constraint(flow_model, b_c_cost == b_c_flow + params_dict[:b_c_congestion])\n",
    "        node_b_flow_const = @constraint(flow_model, a_b_flow == b_c_flow + b_d_flow)\n",
    "        node_c_flow_const = @constraint(flow_model, c_d_flow == b_c_flow + a_c_flow)\n",
    "        #equal_cost_shortcut = @constraint(flow_model, a_b_cost + b_d_cost == a_b_cost + b_c_cost + c_d_cost)     \n",
    "    else\n",
    "        node_b_flow_const = @constraint(flow_model, a_b_flow == b_d_flow)\n",
    "        node_c_flow_const = @constraint(flow_model, a_c_flow == c_d_flow)\n",
    "    end\n",
    "    \n",
    "    # objective function\n",
    "    @expression(flow_model, objective, a_b_cost+b_d_cost)\n",
    "    @objective(flow_model, Min, objective)\n",
    "    \n",
    "    print(flow_model)\n",
    "    return flow_model\n",
    "end"
   ]
  },
  {
   "cell_type": "code",
   "execution_count": 4,
   "id": "771b55be-c556-44cc-b60a-a3da394e0ab0",
   "metadata": {},
   "outputs": [
    {
     "data": {
      "text/plain": [
       "print_mod (generic function with 1 method)"
      ]
     },
     "execution_count": 4,
     "metadata": {},
     "output_type": "execute_result"
    }
   ],
   "source": [
    "# print\n",
    "function print_mod(flow_model)\n",
    "    println(\"Path 1: \", value.(flow_model[:a_b_cost])+value.(flow_model[:b_d_cost]));\n",
    "    println(\"a to b: \", value.(flow_model[:a_b_flow]));\n",
    "    println(\"b to d: \", value.(flow_model[:b_d_flow]));\n",
    "    println(\"Path 2: \", value.(flow_model[:a_c_cost])+value.(flow_model[:c_d_cost]));\n",
    "    println(\"a to c: \", value.(flow_model[:a_c_flow]));\n",
    "    println(\"c to d: \", value.(flow_model[:c_d_flow]));\n",
    "    if value.(flow_model[:include_shortcut]) == true\n",
    "        println(\"Path 3: \", value.(flow_model[:a_b_cost])+value.(flow_model[:b_c_cost])+value.(flow_model[:c_d_cost]));\n",
    "        println(\"a to b: \", value.(flow_model[:a_b_flow]));\n",
    "        println(\"b to c: \", value.(flow_model[:b_c_flow]));\n",
    "        println(\"c to d: \", value.(flow_model[:c_d_flow]));\n",
    "    end\n",
    "end"
   ]
  },
  {
   "cell_type": "code",
   "execution_count": 9,
   "id": "d4769f19-1ac9-4e08-946b-f2fcf07c4166",
   "metadata": {},
   "outputs": [
    {
     "data": {
      "text/latex": [
       "$$ \\begin{aligned}\n",
       "\\min\\quad & a\\_b\\_cost + b\\_d\\_cost\\\\\n",
       "\\text{Subject to} \\quad & -10 a\\_b\\_flow + a\\_b\\_cost = 0\\\\\n",
       " & -a\\_c\\_flow + a\\_c\\_cost = 50\\\\\n",
       " & -b\\_d\\_flow + b\\_d\\_cost = 50\\\\\n",
       " & -10 c\\_d\\_flow + c\\_d\\_cost = 0\\\\\n",
       " & a\\_b\\_cost - a\\_c\\_cost + b\\_d\\_cost - c\\_d\\_cost = 0\\\\\n",
       " & -a\\_b\\_flow - a\\_c\\_flow = -6\\\\\n",
       " & -b\\_d\\_flow - c\\_d\\_flow = -6\\\\\n",
       " & a\\_b\\_flow - b\\_d\\_flow = 0\\\\\n",
       " & a\\_c\\_flow - c\\_d\\_flow = 0\\\\\n",
       " & include\\_shortcut = 0\\\\\n",
       " & a\\_b\\_flow \\geq 0\\\\\n",
       " & a\\_c\\_flow \\geq 0\\\\\n",
       " & b\\_d\\_flow \\geq 0\\\\\n",
       " & c\\_d\\_flow \\geq 0\\\\\n",
       " & a\\_b\\_cost \\geq 0\\\\\n",
       " & a\\_c\\_cost \\geq 0\\\\\n",
       " & b\\_d\\_cost \\geq 0\\\\\n",
       " & c\\_d\\_cost \\geq 0\\\\\n",
       " & a\\_b\\_flow \\in \\mathbb{Z}\\\\\n",
       " & a\\_c\\_flow \\in \\mathbb{Z}\\\\\n",
       " & b\\_d\\_flow \\in \\mathbb{Z}\\\\\n",
       " & c\\_d\\_flow \\in \\mathbb{Z}\\\\\n",
       "\\end{aligned} $$"
      ]
     },
     "metadata": {},
     "output_type": "display_data"
    },
    {
     "name": "stdout",
     "output_type": "stream",
     "text": [
      "Running HiGHS 1.8.0 (git hash: fcfb53414): Copyright (c) 2024 HiGHS under MIT licence terms\n",
      "Coefficient ranges:\n",
      "  Matrix [1e+00, 1e+01]\n",
      "  Cost   [1e+00, 1e+00]\n",
      "  Bound  [0e+00, 0e+00]\n",
      "  RHS    [6e+00, 5e+01]\n",
      "Presolving model\n",
      "0 rows, 0 cols, 0 nonzeros  0s\n",
      "0 rows, 0 cols, 0 nonzeros  0s\n",
      "Presolve: Optimal\n",
      "\n",
      "        Nodes      |    B&B Tree     |            Objective Bounds              |  Dynamic Constraints |       Work      \n",
      "     Proc. InQueue |  Leaves   Expl. | BestBound       BestSol              Gap |   Cuts   InLp Confl. | LpIters     Time\n",
      "\n",
      "         0       0         0   0.00%   83              83                 0.00%        0      0      0         0     0.0s\n",
      "\n",
      "Solving report\n",
      "  Status            Optimal\n",
      "  Primal bound      83\n",
      "  Dual bound        83\n",
      "  Gap               0% (tolerance: 0.01%)\n",
      "  Solution status   feasible\n",
      "                    83 (objective)\n",
      "                    0 (bound viol.)\n",
      "                    0 (int. viol.)\n",
      "                    0 (row viol.)\n",
      "  Timing            0.00 (total)\n",
      "                    0.00 (presolve)\n",
      "                    0.00 (postsolve)\n",
      "  Nodes             0\n",
      "  LP iterations     0 (total)\n",
      "                    0 (strong br.)\n",
      "                    0 (separation)\n",
      "                    0 (heuristics)\n",
      "Path 1: 83.0\n",
      "a to b: 3.0\n",
      "b to d: 3.0\n",
      "Path 2: 83.0\n",
      "a to c: 3.0\n",
      "c to d: 3.0\n"
     ]
    }
   ],
   "source": [
    "#=\n",
    "Base four node model without shortcut\n",
    "=#\n",
    "# parameters\n",
    "param_dict_1 = Dict(\n",
    "    :supply => 6,\n",
    "    :demand => 6,\n",
    "    :a_b_congestion => 10,  # linear\n",
    "    :a_c_congestion => 50,  # constant\n",
    "    :b_d_congestion => 50,  # constant\n",
    "    :c_d_congestion => 10,  # linear\n",
    "    :b_c_congestion => 10,  # constant\n",
    "    :include_shortcut => false\n",
    ")\n",
    "flow_mod = new_flow_model(param_dict_1)\n",
    "optimize!(flow_mod)\n",
    "print_mod(flow_mod)"
   ]
  },
  {
   "cell_type": "code",
   "execution_count": 14,
   "id": "7e9e0fcf-ecc2-4e4e-8f43-41122f9477fb",
   "metadata": {},
   "outputs": [
    {
     "data": {
      "text/latex": [
       "$$ \\begin{aligned}\n",
       "\\min\\quad & a\\_b\\_cost + b\\_d\\_cost\\\\\n",
       "\\text{Subject to} \\quad & -10 a\\_b\\_flow + a\\_b\\_cost = 0\\\\\n",
       " & -a\\_c\\_flow + a\\_c\\_cost = 50\\\\\n",
       " & -b\\_d\\_flow + b\\_d\\_cost = 50\\\\\n",
       " & -10 c\\_d\\_flow + c\\_d\\_cost = 0\\\\\n",
       " & -a\\_b\\_flow - a\\_c\\_flow = -6\\\\\n",
       " & -b\\_d\\_flow - c\\_d\\_flow = -6\\\\\n",
       " & -b\\_c\\_flow + b\\_c\\_cost = 10\\\\\n",
       " & a\\_b\\_flow - b\\_d\\_flow - b\\_c\\_flow = 0\\\\\n",
       " & -a\\_c\\_flow + c\\_d\\_flow - b\\_c\\_flow = 0\\\\\n",
       " & include\\_shortcut = 1\\\\\n",
       " & b\\_c\\_flow = 1\\\\\n",
       " & a\\_b\\_flow \\geq 0\\\\\n",
       " & a\\_c\\_flow \\geq 0\\\\\n",
       " & b\\_d\\_flow \\geq 0\\\\\n",
       " & c\\_d\\_flow \\geq 0\\\\\n",
       " & a\\_b\\_cost \\geq 0\\\\\n",
       " & a\\_c\\_cost \\geq 0\\\\\n",
       " & b\\_d\\_cost \\geq 0\\\\\n",
       " & c\\_d\\_cost \\geq 0\\\\\n",
       " & b\\_c\\_cost \\geq 0\\\\\n",
       " & a\\_b\\_flow \\in \\mathbb{Z}\\\\\n",
       " & a\\_c\\_flow \\in \\mathbb{Z}\\\\\n",
       " & b\\_d\\_flow \\in \\mathbb{Z}\\\\\n",
       " & c\\_d\\_flow \\in \\mathbb{Z}\\\\\n",
       "\\end{aligned} $$"
      ]
     },
     "metadata": {},
     "output_type": "display_data"
    },
    {
     "name": "stdout",
     "output_type": "stream",
     "text": [
      "Running HiGHS 1.8.0 (git hash: fcfb53414): Copyright (c) 2024 HiGHS under MIT licence terms\n",
      "Coefficient ranges:\n",
      "  Matrix [1e+00, 1e+01]\n",
      "  Cost   [1e+00, 1e+00]\n",
      "  Bound  [1e+00, 1e+00]\n",
      "  RHS    [6e+00, 5e+01]\n",
      "Presolving model\n",
      "2 rows, 2 cols, 4 nonzeros  0s\n",
      "0 rows, 0 cols, 0 nonzeros  0s\n",
      "Presolve: Optimal\n",
      "\n",
      "        Nodes      |    B&B Tree     |            Objective Bounds              |  Dynamic Constraints |       Work      \n",
      "     Proc. InQueue |  Leaves   Expl. | BestBound       BestSol              Gap |   Cuts   InLp Confl. | LpIters     Time\n",
      "\n",
      "         0       0         0   0.00%   60              60                 0.00%        0      0      0         0     0.0s\n",
      "\n",
      "Solving report\n",
      "  Status            Optimal\n",
      "  Primal bound      60\n",
      "  Dual bound        60\n",
      "  Gap               0% (tolerance: 0.01%)\n",
      "  Solution status   feasible\n",
      "                    60 (objective)\n",
      "                    0 (bound viol.)\n",
      "                    0 (int. viol.)\n",
      "                    0 (row viol.)\n",
      "  Timing            0.00 (total)\n",
      "                    0.00 (presolve)\n",
      "                    0.00 (postsolve)\n",
      "  Nodes             0\n",
      "  LP iterations     0 (total)\n",
      "                    0 (strong br.)\n",
      "                    0 (separation)\n",
      "                    0 (heuristics)\n",
      "Path 1: 60.0\n",
      "a to b: 1.0\n",
      "b to d: 0.0\n",
      "Path 2: 115.0\n",
      "a to c: 5.0\n",
      "c to d: 6.0\n",
      "Path 3: 81.0\n",
      "a to b: 1.0\n",
      "b to c: 1.0\n",
      "c to d: 6.0\n"
     ]
    }
   ],
   "source": [
    "#=\n",
    "Base four node model with shortcut\n",
    "=#\n",
    "# parameters\n",
    "param_dict_2 = Dict(\n",
    "    :supply => 6,\n",
    "    :demand => 6,\n",
    "    :a_b_congestion => 10,  # linear\n",
    "    :a_c_congestion => 50,  # constant\n",
    "    :b_d_congestion => 50,  # constant\n",
    "    :c_d_congestion => 10,  # linear\n",
    "    :b_c_congestion => 10,  # constant\n",
    "    :include_shortcut => true\n",
    ")\n",
    "\n",
    "flow_mod_2 = new_flow_model(param_dict_2)\n",
    "optimize!(flow_mod_2)\n",
    "print_mod(flow_mod_2)"
   ]
  },
  {
   "cell_type": "code",
   "execution_count": null,
   "id": "f1cb0c6f-1d19-4de7-9c9c-6671228f80e0",
   "metadata": {},
   "outputs": [],
   "source": []
  }
 ],
 "metadata": {
  "kernelspec": {
   "display_name": "Julia 1.10.3",
   "language": "julia",
   "name": "julia-1.10"
  },
  "language_info": {
   "file_extension": ".jl",
   "mimetype": "application/julia",
   "name": "julia",
   "version": "1.10.3"
  }
 },
 "nbformat": 4,
 "nbformat_minor": 5
}
